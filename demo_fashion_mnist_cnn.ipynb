{
 "cells": [
  {
   "cell_type": "code",
   "execution_count": 6,
   "metadata": {},
   "outputs": [],
   "source": [
    "import numpy as np\n",
    "import matplotlib.pyplot as plt\n",
    "import torch\n",
    "import torch.nn as nn\n",
    "import torchvision\n",
    "from functions import get_normalized_fashion_mnist, fmnist1, get_iterators\n",
    "from model_training import train_cnn_model, evaluation\n",
    "\n",
    "torch.manual_seed(1234)\n",
    "torch.backends.cudnn.deterministic = True\n",
    "DEVICE = torch.device('cuda:0') if torch.cuda.is_available() else 'cpu'"
   ]
  },
  {
   "cell_type": "markdown",
   "metadata": {},
   "source": [
    "## Specify parameters"
   ]
  },
  {
   "cell_type": "code",
   "execution_count": 7,
   "metadata": {},
   "outputs": [],
   "source": [
    "#Parameters\n",
    "LOSS_FN = nn.CrossEntropyLoss()\n",
    "BATCH_SIZE = 16\n",
    "L_RATE = 1e-3\n",
    "#Layer parameters\n",
    "LINEAR_SIZE = 288\n",
    "L1 = [1, 16, 3, 1, 1, 2, 2, 0, 0.0] \n",
    "L2 = [16, 32, 3, 1, 1, 2, 2, 0, 0.0] \n",
    "L3 = [32, 32, 3, 1, 1, 2, 2, 0, 0.0]"
   ]
  },
  {
   "cell_type": "markdown",
   "metadata": {},
   "source": [
    "## Load data and get dataloaders"
   ]
  },
  {
   "cell_type": "code",
   "execution_count": 8,
   "metadata": {},
   "outputs": [],
   "source": [
    "#Load full dataset\n",
    "trainxs, trainys, valxs, valys, testxs, testys = get_normalized_fashion_mnist()\n",
    "\n",
    "#Get a subset of data\n",
    "train_dat = fmnist1(trainxs, trainys)\n",
    "val_dat = fmnist1(valxs, valys)\n",
    "test_dat = fmnist1(testxs, testys)\n",
    "\n",
    "#Get iterators\n",
    "train_loader, val_loader, test_loader = get_iterators(train_dat, val_dat, \n",
    "                                                      test_dat, BATCH_SIZE)"
   ]
  },
  {
   "cell_type": "markdown",
   "metadata": {},
   "source": [
    "## Train model"
   ]
  },
  {
   "cell_type": "code",
   "execution_count": 9,
   "metadata": {
    "scrolled": false
   },
   "outputs": [
    {
     "name": "stdout",
     "output_type": "stream",
     "text": [
      "Epoch: 1, training loss: 1.585845517852534, validation loss: 1.5385540852471002\n",
      "Epoch: 2, training loss: 1.2373815961062793, validation loss: 0.6457939690067654\n",
      "Epoch: 3, training loss: 0.40178086608171004, validation loss: 0.2892819206392954\n",
      "Epoch: 4, training loss: 0.2704877909988852, validation loss: 0.24246694630100613\n",
      "Epoch: 5, training loss: 0.23820306534337776, validation loss: 0.22401040167444283\n",
      "Epoch: 6, training loss: 0.21769862887160202, validation loss: 0.19535216546602666\n",
      "Epoch: 7, training loss: 0.20190542767243191, validation loss: 0.18413185988745046\n",
      "Epoch: 8, training loss: 0.18949280443322689, validation loss: 0.17462615908995743\n",
      "Epoch: 9, training loss: 0.17818314020810105, validation loss: 0.1720314114635426\n",
      "Epoch: 10, training loss: 0.16778719945811332, validation loss: 0.15715618456846903\n",
      "Epoch: 11, training loss: 0.15753821557993875, validation loss: 0.14929993993469648\n",
      "Epoch: 12, training loss: 0.1493497966803028, validation loss: 0.15190528974764878\n",
      "Epoch: 13, training loss: 0.14232565363460983, validation loss: 0.14666703945498855\n",
      "Epoch: 14, training loss: 0.13599808573153666, validation loss: 0.16354662720113994\n",
      "Epoch: 15, training loss: 0.1303051758311751, validation loss: 0.12643247891202689\n",
      "Epoch: 16, training loss: 0.1255891256766426, validation loss: 0.12425673310053609\n",
      "Epoch: 17, training loss: 0.12021234324771712, validation loss: 0.1222472181085438\n",
      "Epoch: 18, training loss: 0.11664761090323014, validation loss: 0.12560241733204633\n",
      "Epoch: 19, training loss: 0.11355522763080093, validation loss: 0.11201247576003273\n",
      "Epoch: 20, training loss: 0.11082295878521244, validation loss: 0.11696023695643933\n",
      "Epoch: 21, training loss: 0.10686212648460994, validation loss: 0.11184470563580001\n",
      "Epoch: 22, training loss: 0.1052231641303125, validation loss: 0.10945043541594512\n",
      "Epoch: 23, training loss: 0.102497212587743, validation loss: 0.11258976942460452\n",
      "Epoch: 24, training loss: 0.10064853605383817, validation loss: 0.10317834504318261\n",
      "Epoch: 25, training loss: 0.09812741862427417, validation loss: 0.1002420024074141\n",
      "Epoch: 26, training loss: 0.0963886607097358, validation loss: 0.09918611210268287\n",
      "Epoch: 27, training loss: 0.0944106326581526, validation loss: 0.13047897146408638\n",
      "Epoch: 28, training loss: 0.09345328181007762, validation loss: 0.09611855819821358\n",
      "Epoch: 29, training loss: 0.09175969307031363, validation loss: 0.10321389707322749\n",
      "Epoch: 30, training loss: 0.09013685801774646, validation loss: 0.09309069189235628\n",
      "Epoch: 31, training loss: 0.08955069310535975, validation loss: 0.0917074219560221\n",
      "Epoch: 32, training loss: 0.08710836292922253, validation loss: 0.10018028506181306\n",
      "Epoch: 33, training loss: 0.08565379853870762, validation loss: 0.09043953346738977\n",
      "Epoch: 34, training loss: 0.08433550212491711, validation loss: 0.08887616507228582\n",
      "Epoch: 35, training loss: 0.08333056607165223, validation loss: 0.10000169156784458\n",
      "Epoch: 36, training loss: 0.08248504700216278, validation loss: 0.09124333345966916\n",
      "Epoch: 37, training loss: 0.08172741960090527, validation loss: 0.0904399872775973\n",
      "Epoch: 38, training loss: 0.08065312443605208, validation loss: 0.09143425886415774\n",
      "Epoch: 39, training loss: 0.07950809785042735, validation loss: 0.0879550588269171\n",
      "Epoch: 40, training loss: 0.07916046976054256, validation loss: 0.08445616352837533\n",
      "Epoch: 41, training loss: 0.07778084228784926, validation loss: 0.08409408750419047\n",
      "Epoch: 42, training loss: 0.07679887844848761, validation loss: 0.08771646252966353\n",
      "Epoch: 43, training loss: 0.07619393113752217, validation loss: 0.08386568625952812\n",
      "Epoch: 44, training loss: 0.0754553351171248, validation loss: 0.09051110839234694\n",
      "Epoch: 45, training loss: 0.07439661838866674, validation loss: 0.08288909737242474\n",
      "Epoch: 46, training loss: 0.07305985442807952, validation loss: 0.08506260172183079\n",
      "Epoch: 47, training loss: 0.07392928623037251, validation loss: 0.08271014908705616\n",
      "Epoch: 48, training loss: 0.07258794297974898, validation loss: 0.08508290581530817\n",
      "Epoch: 49, training loss: 0.07175885218310914, validation loss: 0.07926717764875364\n",
      "Epoch: 50, training loss: 0.07120127209568423, validation loss: 0.08194633902619697\n",
      "Epoch: 51, training loss: 0.07077043361747506, validation loss: 0.0838167506842948\n",
      "Epoch: 52, training loss: 0.0697199943746365, validation loss: 0.07897789203155313\n",
      "Epoch: 53, training loss: 0.06929757235149485, validation loss: 0.07705837263363517\n",
      "Epoch: 54, training loss: 0.06900986223173591, validation loss: 0.08380354855483073\n",
      "Epoch: 55, training loss: 0.0682450463182593, validation loss: 0.08167962745970322\n",
      "Epoch: 56, training loss: 0.06750575201993081, validation loss: 0.07897258260146907\n",
      "Epoch: 57, training loss: 0.06728274902141809, validation loss: 0.08067445214117124\n",
      "Epoch: 58, training loss: 0.06707832083525316, validation loss: 0.07609708845164509\n",
      "Epoch: 59, training loss: 0.06621294214166412, validation loss: 0.08079824186565857\n",
      "Epoch: 60, training loss: 0.06578697756453805, validation loss: 0.07495905361286113\n",
      "Epoch: 61, training loss: 0.0650707714368582, validation loss: 0.07741475324109492\n",
      "Epoch: 62, training loss: 0.06457623322008829, validation loss: 0.07466514351822082\n",
      "Epoch: 63, training loss: 0.06396808816689949, validation loss: 0.07987637863372497\n",
      "Epoch: 64, training loss: 0.06397152723692905, validation loss: 0.07599045886096382\n"
     ]
    }
   ],
   "source": [
    "tl, ta, vl, va, m = train_cnn_model(train_loader, val_loader, L_RATE,\n",
    "                              LINEAR_SIZE, DEVICE, LOSS_FN, L1, L2, L3)"
   ]
  },
  {
   "cell_type": "markdown",
   "metadata": {},
   "source": [
    "## Evaluate test set"
   ]
  },
  {
   "cell_type": "code",
   "execution_count": 11,
   "metadata": {},
   "outputs": [
    {
     "name": "stdout",
     "output_type": "stream",
     "text": [
      "Final test acc: 0.9782.\n"
     ]
    }
   ],
   "source": [
    "test_loss, test_acc = evaluation(m, LOSS_FN, test_loader, DEVICE)\n",
    "print(f\"Final test acc: {np.round(test_acc, 4)}.\")"
   ]
  }
 ],
 "metadata": {
  "kernelspec": {
   "display_name": "Python 3",
   "language": "python",
   "name": "python3"
  },
  "language_info": {
   "codemirror_mode": {
    "name": "ipython",
    "version": 3
   },
   "file_extension": ".py",
   "mimetype": "text/x-python",
   "name": "python",
   "nbconvert_exporter": "python",
   "pygments_lexer": "ipython3",
   "version": "3.9.7"
  }
 },
 "nbformat": 4,
 "nbformat_minor": 4
}
